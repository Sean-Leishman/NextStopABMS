{
 "cells": [
  {
   "cell_type": "code",
   "execution_count": 104,
   "metadata": {},
   "outputs": [],
   "source": [
    "import pandas as pd \n",
    "import numpy as np\n",
    "import math\n",
    "from sklearn.preprocessing import StandardScaler, MinMaxScaler"
   ]
  },
  {
   "cell_type": "code",
   "execution_count": 105,
   "metadata": {},
   "outputs": [],
   "source": [
    "df = pd.read_csv(\"stations.csv\")"
   ]
  },
  {
   "cell_type": "code",
   "execution_count": 106,
   "metadata": {},
   "outputs": [],
   "source": [
    "def fix_string(line):\n",
    "    if len(line) == 3:\n",
    "        if line[2] == \"C\":\n",
    "            return line[:2] + \"00\"\n",
    "        return line[:2] + \"0\" + line[2:]\n",
    "    else:\n",
    "        return line"
   ]
  },
  {
   "cell_type": "code",
   "execution_count": 107,
   "metadata": {},
   "outputs": [],
   "source": [
    "df['STN_NO'] = df['STN_NO'].apply(lambda x: fix_string(x))\n",
    "df['LINE'] = df['STN_NO'].str[:2]\n",
    "df['NUMBER'] = df['STN_NO'].str[2:]\n",
    "    "
   ]
  },
  {
   "cell_type": "code",
   "execution_count": 108,
   "metadata": {},
   "outputs": [
    {
     "name": "stderr",
     "output_type": "stream",
     "text": [
      "C:\\Users\\leish\\anaconda3\\envs\\tf3\\lib\\site-packages\\sklearn\\base.py:493: FutureWarning: The feature names should match those that were passed during fit. Starting version 1.2, an error will be raised.\n",
      "Feature names unseen at fit time:\n",
      "- Y\n",
      "Feature names seen at fit time, yet now missing:\n",
      "- X\n",
      "\n",
      "  warnings.warn(message, FutureWarning)\n"
     ]
    }
   ],
   "source": [
    "ss = StandardScaler()\n",
    "df['X'] = np.floor(ss.fit_transform(df[['X']]) * 20)\n",
    "df['Y'] = np.floor(ss.transform(df[['Y']]) * 25) - 15"
   ]
  },
  {
   "cell_type": "code",
   "execution_count": 109,
   "metadata": {},
   "outputs": [
    {
     "data": {
      "text/html": [
       "<div>\n",
       "<style scoped>\n",
       "    .dataframe tbody tr th:only-of-type {\n",
       "        vertical-align: middle;\n",
       "    }\n",
       "\n",
       "    .dataframe tbody tr th {\n",
       "        vertical-align: top;\n",
       "    }\n",
       "\n",
       "    .dataframe thead th {\n",
       "        text-align: right;\n",
       "    }\n",
       "</style>\n",
       "<table border=\"1\" class=\"dataframe\">\n",
       "  <thead>\n",
       "    <tr style=\"text-align: right;\">\n",
       "      <th></th>\n",
       "      <th>OBJECTID</th>\n",
       "      <th>X</th>\n",
       "      <th>Y</th>\n",
       "      <th>Latitude</th>\n",
       "      <th>Longitude</th>\n",
       "      <th>SUN_INC_START_TIME</th>\n",
       "      <th>INC_END_TIME</th>\n",
       "      <th>WEEKDAY_SAT_DEC_START_TIME</th>\n",
       "      <th>SUN_DEC_START_TIME</th>\n",
       "      <th>DEC_END_TIME</th>\n",
       "    </tr>\n",
       "  </thead>\n",
       "  <tbody>\n",
       "    <tr>\n",
       "      <th>count</th>\n",
       "      <td>195.000000</td>\n",
       "      <td>195.000000</td>\n",
       "      <td>195.000000</td>\n",
       "      <td>195.000000</td>\n",
       "      <td>195.000000</td>\n",
       "      <td>22.000000</td>\n",
       "      <td>22.000000</td>\n",
       "      <td>21.00000</td>\n",
       "      <td>21.000000</td>\n",
       "      <td>21.000000</td>\n",
       "    </tr>\n",
       "    <tr>\n",
       "      <th>mean</th>\n",
       "      <td>169.953846</td>\n",
       "      <td>-0.456410</td>\n",
       "      <td>9.646154</td>\n",
       "      <td>1.345430</td>\n",
       "      <td>103.842920</td>\n",
       "      <td>204.000000</td>\n",
       "      <td>846.090909</td>\n",
       "      <td>156.52381</td>\n",
       "      <td>166.761905</td>\n",
       "      <td>683.857143</td>\n",
       "    </tr>\n",
       "    <tr>\n",
       "      <th>std</th>\n",
       "      <td>511.195801</td>\n",
       "      <td>20.092105</td>\n",
       "      <td>17.506491</td>\n",
       "      <td>0.046157</td>\n",
       "      <td>0.065545</td>\n",
       "      <td>174.031196</td>\n",
       "      <td>721.053786</td>\n",
       "      <td>168.68895</td>\n",
       "      <td>179.741455</td>\n",
       "      <td>735.362923</td>\n",
       "    </tr>\n",
       "    <tr>\n",
       "      <th>min</th>\n",
       "      <td>1.000000</td>\n",
       "      <td>-64.000000</td>\n",
       "      <td>-21.000000</td>\n",
       "      <td>1.265473</td>\n",
       "      <td>103.636932</td>\n",
       "      <td>0.000000</td>\n",
       "      <td>0.000000</td>\n",
       "      <td>0.00000</td>\n",
       "      <td>0.000000</td>\n",
       "      <td>0.000000</td>\n",
       "    </tr>\n",
       "    <tr>\n",
       "      <th>25%</th>\n",
       "      <td>51.500000</td>\n",
       "      <td>-14.500000</td>\n",
       "      <td>-5.000000</td>\n",
       "      <td>1.306992</td>\n",
       "      <td>103.796729</td>\n",
       "      <td>0.000000</td>\n",
       "      <td>0.000000</td>\n",
       "      <td>0.00000</td>\n",
       "      <td>0.000000</td>\n",
       "      <td>0.000000</td>\n",
       "    </tr>\n",
       "    <tr>\n",
       "      <th>50%</th>\n",
       "      <td>106.000000</td>\n",
       "      <td>2.000000</td>\n",
       "      <td>7.000000</td>\n",
       "      <td>1.337587</td>\n",
       "      <td>103.851457</td>\n",
       "      <td>332.000000</td>\n",
       "      <td>1405.000000</td>\n",
       "      <td>0.00000</td>\n",
       "      <td>0.000000</td>\n",
       "      <td>0.000000</td>\n",
       "    </tr>\n",
       "    <tr>\n",
       "      <th>75%</th>\n",
       "      <td>153.500000</td>\n",
       "      <td>15.000000</td>\n",
       "      <td>25.000000</td>\n",
       "      <td>1.386032</td>\n",
       "      <td>103.893074</td>\n",
       "      <td>345.000000</td>\n",
       "      <td>1431.750000</td>\n",
       "      <td>325.00000</td>\n",
       "      <td>345.000000</td>\n",
       "      <td>1420.000000</td>\n",
       "    </tr>\n",
       "    <tr>\n",
       "      <th>max</th>\n",
       "      <td>5001.000000</td>\n",
       "      <td>44.000000</td>\n",
       "      <td>49.000000</td>\n",
       "      <td>1.449051</td>\n",
       "      <td>103.988321</td>\n",
       "      <td>370.000000</td>\n",
       "      <td>1478.000000</td>\n",
       "      <td>371.00000</td>\n",
       "      <td>398.000000</td>\n",
       "      <td>1478.000000</td>\n",
       "    </tr>\n",
       "  </tbody>\n",
       "</table>\n",
       "</div>"
      ],
      "text/plain": [
       "          OBJECTID           X           Y    Latitude   Longitude  \\\n",
       "count   195.000000  195.000000  195.000000  195.000000  195.000000   \n",
       "mean    169.953846   -0.456410    9.646154    1.345430  103.842920   \n",
       "std     511.195801   20.092105   17.506491    0.046157    0.065545   \n",
       "min       1.000000  -64.000000  -21.000000    1.265473  103.636932   \n",
       "25%      51.500000  -14.500000   -5.000000    1.306992  103.796729   \n",
       "50%     106.000000    2.000000    7.000000    1.337587  103.851457   \n",
       "75%     153.500000   15.000000   25.000000    1.386032  103.893074   \n",
       "max    5001.000000   44.000000   49.000000    1.449051  103.988321   \n",
       "\n",
       "       SUN_INC_START_TIME  INC_END_TIME  WEEKDAY_SAT_DEC_START_TIME  \\\n",
       "count           22.000000     22.000000                    21.00000   \n",
       "mean           204.000000    846.090909                   156.52381   \n",
       "std            174.031196    721.053786                   168.68895   \n",
       "min              0.000000      0.000000                     0.00000   \n",
       "25%              0.000000      0.000000                     0.00000   \n",
       "50%            332.000000   1405.000000                     0.00000   \n",
       "75%            345.000000   1431.750000                   325.00000   \n",
       "max            370.000000   1478.000000                   371.00000   \n",
       "\n",
       "       SUN_DEC_START_TIME  DEC_END_TIME  \n",
       "count           21.000000     21.000000  \n",
       "mean           166.761905    683.857143  \n",
       "std            179.741455    735.362923  \n",
       "min              0.000000      0.000000  \n",
       "25%              0.000000      0.000000  \n",
       "50%              0.000000      0.000000  \n",
       "75%            345.000000   1420.000000  \n",
       "max            398.000000   1478.000000  "
      ]
     },
     "execution_count": 109,
     "metadata": {},
     "output_type": "execute_result"
    }
   ],
   "source": [
    "df.describe()"
   ]
  },
  {
   "cell_type": "code",
   "execution_count": 110,
   "metadata": {},
   "outputs": [
    {
     "name": "stderr",
     "output_type": "stream",
     "text": [
      "C:\\Users\\leish\\AppData\\Local\\Temp\\ipykernel_2192\\505108995.py:1: FutureWarning: Dropping invalid columns in DataFrameGroupBy.min is deprecated. In a future version, a TypeError will be raised. Before calling .min, select only columns which should be valid for the function.\n",
      "  connections = df.groupby(\"STN_NAME\").min()\n"
     ]
    }
   ],
   "source": [
    "connections = df.groupby(\"STN_NAME\").min()\n",
    "df['CONNECTION_ID'] = df['STN_NAME'].apply(lambda x: connections.loc[x][\"OBJECTID\"])\n"
   ]
  },
  {
   "cell_type": "code",
   "execution_count": 111,
   "metadata": {},
   "outputs": [],
   "source": [
    "df.loc[70, [\"STN_NO\", \"NUMBER\"]] = [\"NE02\", \"02\"]"
   ]
  },
  {
   "cell_type": "code",
   "execution_count": 112,
   "metadata": {},
   "outputs": [],
   "source": [
    "df = df.astype({'X':int, 'Y': int})"
   ]
  },
  {
   "cell_type": "code",
   "execution_count": 113,
   "metadata": {},
   "outputs": [],
   "source": [
    "def nextId(row):\n",
    "    a = df.loc[(df.LINE == row.LINE) & (df.NUMBER > row.NUMBER)]['NUMBER'].min()\n",
    "    if row.LINE == \"BP\":\n",
    "        if row.NUMBER == \"13\":\n",
    "            a = 6 \n",
    "    if row.LINE == \"PW\" or row.LINE == \"PE\":\n",
    "        if row.NUMBER == \"07\":\n",
    "            a = 0\n",
    "    if row.LINE == \"SW\":\n",
    "        if row.NUMBER == \"08\":\n",
    "            print(\"HERE\")\n",
    "            a = 0\n",
    "    if row.LINE == \"SE\":\n",
    "        if row.NUMBER == \"05\":\n",
    "            a = 0\n",
    "    if row.LINE == \"PF\":\n",
    "        a = df.loc[(df.LINE == row.LINE) & (df.NUMBER < row.NUMBER)]['NUMBER'].max()\n",
    "        if row.NUMBER == \"00\":\n",
    "            a = 7\n",
    "    if row.LINE == \"PX\":\n",
    "        a = df.loc[(df.LINE == row.LINE) & (df.NUMBER < row.NUMBER)]['NUMBER'].max()\n",
    "        if row.NUMBER == \"00\":\n",
    "            a = 7\n",
    "    if row.LINE == \"SF\":\n",
    "        a = df.loc[(df.LINE == row.LINE) & (df.NUMBER < row.NUMBER)]['NUMBER'].max()\n",
    "        if row.NUMBER == \"00\":\n",
    "            a = 5\n",
    "    if row.LINE == \"SX\":\n",
    "        a = df.loc[(df.LINE == row.LINE) & (df.NUMBER < row.NUMBER)]['NUMBER'].max()\n",
    "        if row.NUMBER == \"00\":\n",
    "            a = 8\n",
    "    return a"
   ]
  },
  {
   "cell_type": "code",
   "execution_count": 114,
   "metadata": {},
   "outputs": [],
   "source": [
    "def prevId(row):\n",
    "    a = df.loc[(df.LINE == row.LINE) & (df.NUMBER < row.NUMBER)]['NUMBER'].max()\n",
    "    if row.LINE == \"PF\":\n",
    "        a = df.loc[(df.LINE == row.LINE) & (df.NUMBER < row.NUMBER)]['NUMBER'].max()\n",
    "        if row.NUMBER == \"00\":\n",
    "            a = 7\n",
    "    if row.LINE == \"PX\":\n",
    "        a = df.loc[(df.LINE == row.LINE) & (df.NUMBER < row.NUMBER)]['NUMBER'].max()\n",
    "        if row.NUMBER == \"00\":\n",
    "            a = 7\n",
    "    if row.LINE == \"SF\":\n",
    "        a = df.loc[(df.LINE == row.LINE) & (df.NUMBER < row.NUMBER)]['NUMBER'].max()\n",
    "        if row.NUMBER == \"00\":\n",
    "            a = 5\n",
    "    if row.LINE == \"SX\":\n",
    "        a = df.loc[(df.LINE == row.LINE) & (df.NUMBER < row.NUMBER)]['NUMBER'].max()\n",
    "        if row.NUMBER == \"00\":\n",
    "            a = 8\n",
    "    return a"
   ]
  },
  {
   "cell_type": "code",
   "execution_count": 115,
   "metadata": {},
   "outputs": [
    {
     "name": "stdout",
     "output_type": "stream",
     "text": [
      "HERE\n"
     ]
    }
   ],
   "source": [
    "df['NEXT_STATION_NUMBER'] = df.apply(lambda x: nextId(x) , axis=1)\n",
    "df['PREV_STATION_NUMBER'] = df.apply(lambda x: prevId(x) , axis=1)"
   ]
  },
  {
   "cell_type": "code",
   "execution_count": 116,
   "metadata": {},
   "outputs": [
    {
     "data": {
      "text/html": [
       "<div>\n",
       "<style scoped>\n",
       "    .dataframe tbody tr th:only-of-type {\n",
       "        vertical-align: middle;\n",
       "    }\n",
       "\n",
       "    .dataframe tbody tr th {\n",
       "        vertical-align: top;\n",
       "    }\n",
       "\n",
       "    .dataframe thead th {\n",
       "        text-align: right;\n",
       "    }\n",
       "</style>\n",
       "<table border=\"1\" class=\"dataframe\">\n",
       "  <thead>\n",
       "    <tr style=\"text-align: right;\">\n",
       "      <th></th>\n",
       "      <th>OBJECTID</th>\n",
       "      <th>STN_NAME</th>\n",
       "      <th>STN_NO</th>\n",
       "      <th>X</th>\n",
       "      <th>Y</th>\n",
       "      <th>Latitude</th>\n",
       "      <th>Longitude</th>\n",
       "      <th>COLOR</th>\n",
       "      <th>IS_TERMINUS</th>\n",
       "      <th>WEEKDAY_SAT_INC_START_TIME</th>\n",
       "      <th>SUN_INC_START_TIME</th>\n",
       "      <th>INC_END_TIME</th>\n",
       "      <th>WEEKDAY_SAT_DEC_START_TIME</th>\n",
       "      <th>SUN_DEC_START_TIME</th>\n",
       "      <th>DEC_END_TIME</th>\n",
       "      <th>LINE</th>\n",
       "      <th>NUMBER</th>\n",
       "      <th>CONNECTION_ID</th>\n",
       "      <th>NEXT_STATION_NUMBER</th>\n",
       "      <th>PREV_STATION_NUMBER</th>\n",
       "    </tr>\n",
       "  </thead>\n",
       "  <tbody>\n",
       "    <tr>\n",
       "      <th>36</th>\n",
       "      <td>70</td>\n",
       "      <td>CHENG LIM LRT STATION</td>\n",
       "      <td>SW01</td>\n",
       "      <td>15</td>\n",
       "      <td>29</td>\n",
       "      <td>1.396278</td>\n",
       "      <td>103.893779</td>\n",
       "      <td>OTHERS</td>\n",
       "      <td>FALSE</td>\n",
       "      <td>NaN</td>\n",
       "      <td>NaN</td>\n",
       "      <td>NaN</td>\n",
       "      <td>NaN</td>\n",
       "      <td>NaN</td>\n",
       "      <td>NaN</td>\n",
       "      <td>SW</td>\n",
       "      <td>01</td>\n",
       "      <td>70</td>\n",
       "      <td>02</td>\n",
       "      <td>00</td>\n",
       "    </tr>\n",
       "    <tr>\n",
       "      <th>47</th>\n",
       "      <td>83</td>\n",
       "      <td>COMPASSVALE LRT STATION</td>\n",
       "      <td>SE01</td>\n",
       "      <td>17</td>\n",
       "      <td>28</td>\n",
       "      <td>1.394493</td>\n",
       "      <td>103.900473</td>\n",
       "      <td>OTHERS</td>\n",
       "      <td>FALSE</td>\n",
       "      <td>NaN</td>\n",
       "      <td>NaN</td>\n",
       "      <td>NaN</td>\n",
       "      <td>NaN</td>\n",
       "      <td>NaN</td>\n",
       "      <td>NaN</td>\n",
       "      <td>SE</td>\n",
       "      <td>01</td>\n",
       "      <td>83</td>\n",
       "      <td>02</td>\n",
       "      <td>00</td>\n",
       "    </tr>\n",
       "    <tr>\n",
       "      <th>49</th>\n",
       "      <td>59</td>\n",
       "      <td>COVE LRT STATION</td>\n",
       "      <td>PE01</td>\n",
       "      <td>19</td>\n",
       "      <td>30</td>\n",
       "      <td>1.399282</td>\n",
       "      <td>103.905940</td>\n",
       "      <td>OTHERS</td>\n",
       "      <td>FALSE</td>\n",
       "      <td>NaN</td>\n",
       "      <td>NaN</td>\n",
       "      <td>NaN</td>\n",
       "      <td>NaN</td>\n",
       "      <td>NaN</td>\n",
       "      <td>NaN</td>\n",
       "      <td>PE</td>\n",
       "      <td>01</td>\n",
       "      <td>59</td>\n",
       "      <td>02</td>\n",
       "      <td>00</td>\n",
       "    </tr>\n",
       "    <tr>\n",
       "      <th>145</th>\n",
       "      <td>43</td>\n",
       "      <td>SAM KEE LRT STATION</td>\n",
       "      <td>PW01</td>\n",
       "      <td>18</td>\n",
       "      <td>34</td>\n",
       "      <td>1.409613</td>\n",
       "      <td>103.904810</td>\n",
       "      <td>OTHERS</td>\n",
       "      <td>FALSE</td>\n",
       "      <td>NaN</td>\n",
       "      <td>NaN</td>\n",
       "      <td>NaN</td>\n",
       "      <td>NaN</td>\n",
       "      <td>NaN</td>\n",
       "      <td>NaN</td>\n",
       "      <td>PW</td>\n",
       "      <td>01</td>\n",
       "      <td>43</td>\n",
       "      <td>02</td>\n",
       "      <td>00</td>\n",
       "    </tr>\n",
       "  </tbody>\n",
       "</table>\n",
       "</div>"
      ],
      "text/plain": [
       "     OBJECTID                 STN_NAME STN_NO   X   Y  Latitude   Longitude  \\\n",
       "36         70    CHENG LIM LRT STATION   SW01  15  29  1.396278  103.893779   \n",
       "47         83  COMPASSVALE LRT STATION   SE01  17  28  1.394493  103.900473   \n",
       "49         59         COVE LRT STATION   PE01  19  30  1.399282  103.905940   \n",
       "145        43      SAM KEE LRT STATION   PW01  18  34  1.409613  103.904810   \n",
       "\n",
       "      COLOR IS_TERMINUS WEEKDAY_SAT_INC_START_TIME  SUN_INC_START_TIME  \\\n",
       "36   OTHERS       FALSE                        NaN                 NaN   \n",
       "47   OTHERS       FALSE                        NaN                 NaN   \n",
       "49   OTHERS       FALSE                        NaN                 NaN   \n",
       "145  OTHERS       FALSE                        NaN                 NaN   \n",
       "\n",
       "     INC_END_TIME  WEEKDAY_SAT_DEC_START_TIME  SUN_DEC_START_TIME  \\\n",
       "36            NaN                         NaN                 NaN   \n",
       "47            NaN                         NaN                 NaN   \n",
       "49            NaN                         NaN                 NaN   \n",
       "145           NaN                         NaN                 NaN   \n",
       "\n",
       "     DEC_END_TIME LINE NUMBER  CONNECTION_ID NEXT_STATION_NUMBER  \\\n",
       "36            NaN   SW     01             70                  02   \n",
       "47            NaN   SE     01             83                  02   \n",
       "49            NaN   PE     01             59                  02   \n",
       "145           NaN   PW     01             43                  02   \n",
       "\n",
       "    PREV_STATION_NUMBER  \n",
       "36                   00  \n",
       "47                   00  \n",
       "49                   00  \n",
       "145                  00  "
      ]
     },
     "execution_count": 116,
     "metadata": {},
     "output_type": "execute_result"
    }
   ],
   "source": [
    "df.loc[df.PREV_STATION_NUMBER == \"00\"]"
   ]
  },
  {
   "cell_type": "code",
   "execution_count": 117,
   "metadata": {},
   "outputs": [],
   "source": [
    "df = df.fillna(-1)"
   ]
  },
  {
   "cell_type": "code",
   "execution_count": 118,
   "metadata": {},
   "outputs": [],
   "source": [
    "df.to_csv(\"formatted_stations.csv\")"
   ]
  },
  {
   "cell_type": "code",
   "execution_count": 119,
   "metadata": {},
   "outputs": [
    {
     "data": {
      "text/plain": [
       "array(['NS', 'EW', 'SE', 'BP', 'CC', 'CE', 'DT', 'NE', 'CG', 'SW', 'PE',\n",
       "       'PW', 'PF', 'PX', 'SX', 'SF', 'TE'], dtype=object)"
      ]
     },
     "execution_count": 119,
     "metadata": {},
     "output_type": "execute_result"
    }
   ],
   "source": [
    "df.LINE.unique()"
   ]
  },
  {
   "cell_type": "code",
   "execution_count": 120,
   "metadata": {},
   "outputs": [
    {
     "data": {
      "text/plain": [
       "28     305\n",
       "29     330\n",
       "40     313\n",
       "52     337\n",
       "59     323\n",
       "60       0\n",
       "69       0\n",
       "70     349\n",
       "79     316\n",
       "103      0\n",
       "120    328\n",
       "130    320\n",
       "131      0\n",
       "132    320\n",
       "133      0\n",
       "134      0\n",
       "149    325\n",
       "150      0\n",
       "151      0\n",
       "152    325\n",
       "183      0\n",
       "189    336\n",
       "Name: WEEKDAY_SAT_INC_START_TIME, dtype: object"
      ]
     },
     "execution_count": 120,
     "metadata": {},
     "output_type": "execute_result"
    }
   ],
   "source": [
    "df.loc[df.IS_TERMINUS == \"TRUE\"]['WEEKDAY_SAT_INC_START_TIME']"
   ]
  },
  {
   "cell_type": "code",
   "execution_count": 121,
   "metadata": {},
   "outputs": [
    {
     "data": {
      "text/html": [
       "<div>\n",
       "<style scoped>\n",
       "    .dataframe tbody tr th:only-of-type {\n",
       "        vertical-align: middle;\n",
       "    }\n",
       "\n",
       "    .dataframe tbody tr th {\n",
       "        vertical-align: top;\n",
       "    }\n",
       "\n",
       "    .dataframe thead th {\n",
       "        text-align: right;\n",
       "    }\n",
       "</style>\n",
       "<table border=\"1\" class=\"dataframe\">\n",
       "  <thead>\n",
       "    <tr style=\"text-align: right;\">\n",
       "      <th></th>\n",
       "      <th>OBJECTID</th>\n",
       "      <th>STN_NAME</th>\n",
       "      <th>STN_NO</th>\n",
       "      <th>X</th>\n",
       "      <th>Y</th>\n",
       "      <th>Latitude</th>\n",
       "      <th>Longitude</th>\n",
       "      <th>COLOR</th>\n",
       "      <th>IS_TERMINUS</th>\n",
       "      <th>WEEKDAY_SAT_INC_START_TIME</th>\n",
       "      <th>SUN_INC_START_TIME</th>\n",
       "      <th>INC_END_TIME</th>\n",
       "      <th>WEEKDAY_SAT_DEC_START_TIME</th>\n",
       "      <th>SUN_DEC_START_TIME</th>\n",
       "      <th>DEC_END_TIME</th>\n",
       "      <th>LINE</th>\n",
       "      <th>NUMBER</th>\n",
       "      <th>CONNECTION_ID</th>\n",
       "      <th>NEXT_STATION_NUMBER</th>\n",
       "      <th>PREV_STATION_NUMBER</th>\n",
       "    </tr>\n",
       "  </thead>\n",
       "  <tbody>\n",
       "  </tbody>\n",
       "</table>\n",
       "</div>"
      ],
      "text/plain": [
       "Empty DataFrame\n",
       "Columns: [OBJECTID, STN_NAME, STN_NO, X, Y, Latitude, Longitude, COLOR, IS_TERMINUS, WEEKDAY_SAT_INC_START_TIME, SUN_INC_START_TIME, INC_END_TIME, WEEKDAY_SAT_DEC_START_TIME, SUN_DEC_START_TIME, DEC_END_TIME, LINE, NUMBER, CONNECTION_ID, NEXT_STATION_NUMBER, PREV_STATION_NUMBER]\n",
       "Index: []"
      ]
     },
     "execution_count": 121,
     "metadata": {},
     "output_type": "execute_result"
    }
   ],
   "source": [
    "df[df['LINE'] == \"ST\"]"
   ]
  },
  {
   "cell_type": "code",
   "execution_count": 122,
   "metadata": {},
   "outputs": [
    {
     "data": {
      "text/html": [
       "<div>\n",
       "<style scoped>\n",
       "    .dataframe tbody tr th:only-of-type {\n",
       "        vertical-align: middle;\n",
       "    }\n",
       "\n",
       "    .dataframe tbody tr th {\n",
       "        vertical-align: top;\n",
       "    }\n",
       "\n",
       "    .dataframe thead th {\n",
       "        text-align: right;\n",
       "    }\n",
       "</style>\n",
       "<table border=\"1\" class=\"dataframe\">\n",
       "  <thead>\n",
       "    <tr style=\"text-align: right;\">\n",
       "      <th></th>\n",
       "      <th>OBJECTID</th>\n",
       "      <th>STN_NAME</th>\n",
       "      <th>STN_NO</th>\n",
       "      <th>X</th>\n",
       "      <th>Y</th>\n",
       "      <th>Latitude</th>\n",
       "      <th>Longitude</th>\n",
       "      <th>COLOR</th>\n",
       "      <th>IS_TERMINUS</th>\n",
       "      <th>WEEKDAY_SAT_INC_START_TIME</th>\n",
       "      <th>SUN_INC_START_TIME</th>\n",
       "      <th>INC_END_TIME</th>\n",
       "      <th>WEEKDAY_SAT_DEC_START_TIME</th>\n",
       "      <th>SUN_DEC_START_TIME</th>\n",
       "      <th>DEC_END_TIME</th>\n",
       "      <th>LINE</th>\n",
       "      <th>NUMBER</th>\n",
       "      <th>CONNECTION_ID</th>\n",
       "      <th>NEXT_STATION_NUMBER</th>\n",
       "      <th>PREV_STATION_NUMBER</th>\n",
       "    </tr>\n",
       "  </thead>\n",
       "  <tbody>\n",
       "    <tr>\n",
       "      <th>160</th>\n",
       "      <td>53</td>\n",
       "      <td>SOO TECK LRT STATION</td>\n",
       "      <td>PW07</td>\n",
       "      <td>16</td>\n",
       "      <td>32</td>\n",
       "      <td>1.405089</td>\n",
       "      <td>103.89719</td>\n",
       "      <td>OTHERS</td>\n",
       "      <td>FALSE</td>\n",
       "      <td>-1</td>\n",
       "      <td>-1.0</td>\n",
       "      <td>-1.0</td>\n",
       "      <td>-1.0</td>\n",
       "      <td>-1.0</td>\n",
       "      <td>-1.0</td>\n",
       "      <td>PW</td>\n",
       "      <td>07</td>\n",
       "      <td>53</td>\n",
       "      <td>0</td>\n",
       "      <td>06</td>\n",
       "    </tr>\n",
       "  </tbody>\n",
       "</table>\n",
       "</div>"
      ],
      "text/plain": [
       "     OBJECTID              STN_NAME STN_NO   X   Y  Latitude  Longitude  \\\n",
       "160        53  SOO TECK LRT STATION   PW07  16  32  1.405089  103.89719   \n",
       "\n",
       "      COLOR IS_TERMINUS WEEKDAY_SAT_INC_START_TIME  SUN_INC_START_TIME  \\\n",
       "160  OTHERS       FALSE                         -1                -1.0   \n",
       "\n",
       "     INC_END_TIME  WEEKDAY_SAT_DEC_START_TIME  SUN_DEC_START_TIME  \\\n",
       "160          -1.0                        -1.0                -1.0   \n",
       "\n",
       "     DEC_END_TIME LINE NUMBER  CONNECTION_ID NEXT_STATION_NUMBER  \\\n",
       "160          -1.0   PW     07             53                   0   \n",
       "\n",
       "    PREV_STATION_NUMBER  \n",
       "160                  06  "
      ]
     },
     "execution_count": 122,
     "metadata": {},
     "output_type": "execute_result"
    }
   ],
   "source": [
    "df.loc[(df.LINE == \"PW\") & ((df.NUMBER == \"07\") | (df.NUMBER == \"09\") | (df.NUMBER == \"10\"))]"
   ]
  },
  {
   "cell_type": "code",
   "execution_count": 123,
   "metadata": {},
   "outputs": [
    {
     "data": {
      "text/plain": [
       "(Index(['OBJECTID', 'STN_NAME', 'STN_NO', 'X', 'Y', 'Latitude', 'Longitude',\n",
       "        'COLOR', 'IS_TERMINUS', 'WEEKDAY_SAT_INC_START_TIME',\n",
       "        'SUN_INC_START_TIME', 'INC_END_TIME', 'WEEKDAY_SAT_DEC_START_TIME',\n",
       "        'SUN_DEC_START_TIME', 'DEC_END_TIME', 'LINE', 'NUMBER', 'CONNECTION_ID',\n",
       "        'NEXT_STATION_NUMBER', 'PREV_STATION_NUMBER'],\n",
       "       dtype='object'),\n",
       " 20)"
      ]
     },
     "execution_count": 123,
     "metadata": {},
     "output_type": "execute_result"
    }
   ],
   "source": [
    "df.columns, len(df.columns)\n"
   ]
  },
  {
   "cell_type": "code",
   "execution_count": 124,
   "metadata": {},
   "outputs": [
    {
     "data": {
      "text/plain": [
       "44"
      ]
     },
     "execution_count": 124,
     "metadata": {},
     "output_type": "execute_result"
    }
   ],
   "source": [
    "df['X'].max()"
   ]
  },
  {
   "cell_type": "code",
   "execution_count": null,
   "metadata": {},
   "outputs": [],
   "source": []
  }
 ],
 "metadata": {
  "interpreter": {
   "hash": "47ae4a08faa879d2cd72b44ae9e79460bb1caead6fa5206821005b13a1bbf4d2"
  },
  "kernelspec": {
   "display_name": "Python 3 (ipykernel)",
   "language": "python",
   "name": "python3"
  },
  "language_info": {
   "codemirror_mode": {
    "name": "ipython",
    "version": 3
   },
   "file_extension": ".py",
   "mimetype": "text/x-python",
   "name": "python",
   "nbconvert_exporter": "python",
   "pygments_lexer": "ipython3",
   "version": "3.9.7"
  }
 },
 "nbformat": 4,
 "nbformat_minor": 2
}
